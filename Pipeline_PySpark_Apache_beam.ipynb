{
  "nbformat": 4,
  "nbformat_minor": 0,
  "metadata": {
    "colab": {
      "provenance": [],
      "collapsed_sections": [
        "yJNgDsQZziQs",
        "FPQ-p_vhzo05",
        "YeIFoEisF6GQ",
        "yqxsDAAhBVGX",
        "gLakxNPsoRFu"
      ],
      "mount_file_id": "1jG8xBuG_EO6Hknf0AzpO1xOkzk4JAemq",
      "authorship_tag": "ABX9TyNxhA/Crp7eJ2728Rxy4xul",
      "include_colab_link": true
    },
    "kernelspec": {
      "name": "python3",
      "display_name": "Python 3"
    },
    "language_info": {
      "name": "python"
    }
  },
  "cells": [
    {
      "cell_type": "markdown",
      "metadata": {
        "id": "view-in-github",
        "colab_type": "text"
      },
      "source": [
        "<a href=\"https://colab.research.google.com/github/clarissa-souza/Pipeline-ApacheBeam/blob/main/Pipeline_PySpark_Apache_beam.ipynb\" target=\"_parent\"><img src=\"https://colab.research.google.com/assets/colab-badge.svg\" alt=\"Open In Colab\"/></a>"
      ]
    },
    {
      "cell_type": "markdown",
      "source": [
        "## Instalando e importando as bibliotecas"
      ],
      "metadata": {
        "id": "yJNgDsQZziQs"
      }
    },
    {
      "cell_type": "code",
      "execution_count": null,
      "metadata": {
        "id": "uqHF61pKwuV1"
      },
      "outputs": [],
      "source": [
        "pip install pyspark"
      ]
    },
    {
      "cell_type": "code",
      "source": [
        "pip install gcsfs"
      ],
      "metadata": {
        "id": "Mp7PP-BNxPGB"
      },
      "execution_count": null,
      "outputs": []
    },
    {
      "cell_type": "code",
      "source": [
        "pip --version "
      ],
      "metadata": {
        "id": "kYuRBjQfRARH",
        "colab": {
          "base_uri": "https://localhost:8080/"
        },
        "outputId": "e4e48b23-9bd3-41d0-f1fa-3cb430aa914a"
      },
      "execution_count": null,
      "outputs": [
        {
          "output_type": "stream",
          "name": "stdout",
          "text": [
            "pip 22.2.2 from /usr/local/lib/python3.7/dist-packages/pip (python 3.7)\n"
          ]
        }
      ]
    },
    {
      "cell_type": "code",
      "source": [
        "pip install --upgrade pip"
      ],
      "metadata": {
        "id": "Eb80_CrJRCgm"
      },
      "execution_count": null,
      "outputs": []
    },
    {
      "cell_type": "code",
      "source": [
        "pip install apache_beam[interactive]"
      ],
      "metadata": {
        "id": "bEljXFOfRKBD"
      },
      "execution_count": null,
      "outputs": []
    },
    {
      "cell_type": "code",
      "source": [
        "pip install apache_beam[gcp]"
      ],
      "metadata": {
        "id": "HIgnm6LORMht"
      },
      "execution_count": null,
      "outputs": []
    },
    {
      "cell_type": "code",
      "source": [
        "import apache_beam as beam"
      ],
      "metadata": {
        "id": "3o1msb1cSzTg"
      },
      "execution_count": null,
      "outputs": []
    },
    {
      "cell_type": "code",
      "source": [
        "# Importando o pysaprk\n",
        "from pyspark.sql import SparkSession\n",
        "from pyspark import SparkConf\n",
        "import pyspark.sql.functions as F\n",
        "\n",
        "# Importando para o google cloud\n",
        "from google.cloud import storage\n",
        "import os"
      ],
      "metadata": {
        "id": "TeLzJLy7xHsz"
      },
      "execution_count": null,
      "outputs": []
    },
    {
      "cell_type": "markdown",
      "source": [
        "## Configuração para acessar google cloud storage "
      ],
      "metadata": {
        "id": "FPQ-p_vhzo05"
      }
    },
    {
      "cell_type": "code",
      "source": [
        "# Montando o acesso ao drive para acessar os arquivos gerado pelo pyspark para testar localmente\n",
        "from google.colab import drive\n",
        "drive.mount ('/content/drive')"
      ],
      "metadata": {
        "colab": {
          "base_uri": "https://localhost:8080/"
        },
        "id": "yZJnRDx0w5Sj",
        "outputId": "2f01e0f5-419d-492a-c4fd-a0bb4621b15a"
      },
      "execution_count": null,
      "outputs": [
        {
          "output_type": "stream",
          "name": "stdout",
          "text": [
            "Drive already mounted at /content/drive; to attempt to forcibly remount, call drive.mount(\"/content/drive\", force_remount=True).\n"
          ]
        }
      ]
    },
    {
      "cell_type": "code",
      "source": [
        "# Configurando o caminho da Service account\n",
        "#CONFIGURANDO A CHAVE DE SEGURANÇA posso colocar em qualquer diretorio\n",
        "serviceAccount='/content/bc23-aulas-clarissa-83f5074aa293.json'\n",
        "os.environ['GOOGLE_APPLICATION_CREDENTIALS']=serviceAccount\n",
        "\n",
        "# Instanciar o client \n",
        "client=storage.Client()\n",
        "\n",
        "# Receber o nome do bucket na variavel bucket \n",
        "bucket=client.get_bucket('bucket-proj-individual')\n",
        "\n",
        "# Escolher o arquivo dentro da bucket\n",
        "bucket.blob('flights.csv')\n",
        "\n",
        "# Escolher uma variável que vai receber o caminho do arquivo que quero ler\n",
        "path='gs://bucket-proj-individual/dados/original/flights.csv'"
      ],
      "metadata": {
        "id": "46gREMbIxBV7"
      },
      "execution_count": null,
      "outputs": []
    },
    {
      "cell_type": "markdown",
      "source": [
        "## Configurando o SparkSession e importando para o dataframe spark"
      ],
      "metadata": {
        "id": "YeIFoEisF6GQ"
      }
    },
    {
      "cell_type": "code",
      "source": [
        "#configurar a sparksession\n",
        "spark = (SparkSession.builder\n",
        "          .master('local[4]')\n",
        "          .appName('proj-individual-BC23') \n",
        "          .config('spark.ui.port','4050')\n",
        "          .config('spark.jars','https://storage.googleapis.com/hadoop-lib/gcs/gcs-connector-hadoop2-latest.jar') \n",
        "          .getOrCreate() \n",
        "          )"
      ],
      "metadata": {
        "id": "9LobUfd4F-gf"
      },
      "execution_count": null,
      "outputs": []
    },
    {
      "cell_type": "code",
      "source": [
        "spark"
      ],
      "metadata": {
        "id": "x0rBHB4UGO1A",
        "colab": {
          "base_uri": "https://localhost:8080/",
          "height": 219
        },
        "outputId": "b1506122-1d58-476e-a646-26cea47e8888"
      },
      "execution_count": null,
      "outputs": [
        {
          "output_type": "execute_result",
          "data": {
            "text/plain": [
              "<pyspark.sql.session.SparkSession at 0x7ff5cc70a350>"
            ],
            "text/html": [
              "\n",
              "            <div>\n",
              "                <p><b>SparkSession - in-memory</b></p>\n",
              "                \n",
              "        <div>\n",
              "            <p><b>SparkContext</b></p>\n",
              "\n",
              "            <p><a href=\"http://9405e9e79a8d:4050\">Spark UI</a></p>\n",
              "\n",
              "            <dl>\n",
              "              <dt>Version</dt>\n",
              "                <dd><code>v3.3.0</code></dd>\n",
              "              <dt>Master</dt>\n",
              "                <dd><code>local[4]</code></dd>\n",
              "              <dt>AppName</dt>\n",
              "                <dd><code>proj-individual-BC23</code></dd>\n",
              "            </dl>\n",
              "        </div>\n",
              "        \n",
              "            </div>\n",
              "        "
            ]
          },
          "metadata": {},
          "execution_count": 6
        }
      ]
    },
    {
      "cell_type": "code",
      "source": [
        "df_spark = (spark\n",
        "       .read\n",
        "       .format ('csv') \n",
        "       .option ('header','true') \n",
        "       .option('inferschema','true')\n",
        "       .option('delimiter',',')\n",
        "       .load(path)\n",
        "      )"
      ],
      "metadata": {
        "id": "zO4dx2zJRz1Q",
        "colab": {
          "base_uri": "https://localhost:8080/"
        },
        "outputId": "5797f0a1-b125-45ab-d674-8d38f830c2ab"
      },
      "execution_count": null,
      "outputs": [
        {
          "output_type": "stream",
          "name": "stderr",
          "text": []
        }
      ]
    },
    {
      "cell_type": "markdown",
      "source": [
        "## Analisando e tratando o Dataframe pyspark"
      ],
      "metadata": {
        "id": "yqxsDAAhBVGX"
      }
    },
    {
      "cell_type": "code",
      "source": [
        "df_spark.show()"
      ],
      "metadata": {
        "id": "0sZsUAGe3Qna"
      },
      "execution_count": null,
      "outputs": []
    },
    {
      "cell_type": "code",
      "source": [
        "df_spark.printSchema()"
      ],
      "metadata": {
        "id": "c7euqCyjJ6Ic"
      },
      "execution_count": null,
      "outputs": []
    },
    {
      "cell_type": "code",
      "source": [
        "df_spark.orderBy(F.col('CANCELLED').desc()).show(10, truncate=False)"
      ],
      "metadata": {
        "colab": {
          "base_uri": "https://localhost:8080/"
        },
        "id": "0WqoE3fwmQn-",
        "outputId": "ac5b28b3-8ec3-483f-f4c5-b848eb320ffb"
      },
      "execution_count": null,
      "outputs": [
        {
          "output_type": "stream",
          "name": "stderr",
          "text": []
        },
        {
          "output_type": "stream",
          "name": "stdout",
          "text": [
            "+----+-----+---+-----------+-------+-------------+-----------+--------------+-------------------+-------------------+--------------+---------------+--------+----------+--------------+------------+--------+--------+---------+-------+-----------------+------------+-------------+--------+---------+-------------------+----------------+--------------+-------------+-------------------+-------------+\n",
            "|YEAR|MONTH|DAY|DAY_OF_WEEK|AIRLINE|FLIGHT_NUMBER|TAIL_NUMBER|ORIGIN_AIRPORT|DESTINATION_AIRPORT|SCHEDULED_DEPARTURE|DEPARTURE_TIME|DEPARTURE_DELAY|TAXI_OUT|WHEELS_OFF|SCHEDULED_TIME|ELAPSED_TIME|AIR_TIME|DISTANCE|WHEELS_ON|TAXI_IN|SCHEDULED_ARRIVAL|ARRIVAL_TIME|ARRIVAL_DELAY|DIVERTED|CANCELLED|CANCELLATION_REASON|AIR_SYSTEM_DELAY|SECURITY_DELAY|AIRLINE_DELAY|LATE_AIRCRAFT_DELAY|WEATHER_DELAY|\n",
            "+----+-----+---+-----------+-------+-------------+-----------+--------------+-------------------+-------------------+--------------+---------------+--------+----------+--------------+------------+--------+--------+---------+-------+-----------------+------------+-------------+--------+---------+-------------------+----------------+--------------+-------------+-------------------+-------------+\n",
            "|2015|3    |27 |5          |EV     |5416         |N723EV     |CMH           |MSP                |1330               |null          |null           |null    |null      |120           |null        |null    |626     |null     |null   |1430             |null        |null         |0       |1        |A                  |null            |null          |null         |null               |null         |\n",
            "|2015|3    |27 |5          |OO     |6390         |N738SK     |DEN           |ASE                |1950               |1947          |-3             |12      |1959      |48            |null        |null    |125     |null     |null   |2038             |null        |null         |0       |1        |C                  |null            |null          |null         |null               |null         |\n",
            "|2015|3    |27 |5          |AA     |1366         |N3HYAA     |TPA           |DFW                |1420               |null          |null           |null    |null      |170           |null        |null    |929     |null     |null   |1610             |null        |null         |0       |1        |A                  |null            |null          |null         |null               |null         |\n",
            "|2015|3    |27 |5          |MQ     |3639         |N621MQ     |JFK           |CMH                |1530               |null          |null           |null    |null      |120           |null        |null    |483     |null     |null   |1730             |null        |null         |0       |1        |A                  |null            |null          |null         |null               |null         |\n",
            "|2015|3    |27 |5          |OO     |5212         |N767SK     |ASE           |ORD                |1553               |null          |null           |null    |null      |164           |null        |null    |1013    |null     |null   |1937             |null        |null         |0       |1        |B                  |null            |null          |null         |null               |null         |\n",
            "|2015|3    |27 |5          |OO     |5620         |N792SK     |DFW           |LAX                |1620               |1620          |0              |null    |null      |211           |null        |null    |1235    |null     |null   |1751             |null        |null         |0       |1        |A                  |null            |null          |null         |null               |null         |\n",
            "|2015|3    |27 |5          |B6     |1402         |N296JB     |FLL           |JFK                |1715               |null          |null           |null    |null      |185           |null        |null    |1069    |null     |null   |2020             |null        |null         |0       |1        |B                  |null            |null          |null         |null               |null         |\n",
            "|2015|3    |27 |5          |MQ     |3312         |N650MQ     |BPT           |DFW                |1735               |null          |null           |null    |null      |74            |null        |null    |270     |null     |null   |1849             |null        |null         |0       |1        |A                  |null            |null          |null         |null               |null         |\n",
            "|2015|3    |27 |5          |MQ     |3147         |N621MQ     |CMH           |MIA                |1755               |null          |null           |null    |null      |166           |null        |null    |990     |null     |null   |2041             |null        |null         |0       |1        |A                  |null            |null          |null         |null               |null         |\n",
            "|2015|3    |27 |5          |EV     |5134         |N738EV     |LGA           |RIC                |1904               |null          |null           |null    |null      |101           |null        |null    |292     |null     |null   |2045             |null        |null         |0       |1        |C                  |null            |null          |null         |null               |null         |\n",
            "+----+-----+---+-----------+-------+-------------+-----------+--------------+-------------------+-------------------+--------------+---------------+--------+----------+--------------+------------+--------+--------+---------+-------+-----------------+------------+-------------+--------+---------+-------------------+----------------+--------------+-------------+-------------------+-------------+\n",
            "only showing top 10 rows\n",
            "\n"
          ]
        },
        {
          "output_type": "stream",
          "name": "stderr",
          "text": [
            "\r                                                                                \r"
          ]
        }
      ]
    },
    {
      "cell_type": "code",
      "source": [
        "#Contando as linhas que tiveram o voo cancelado\n",
        "df_spark.filter(F.col('CANCELLED')==1).count()"
      ],
      "metadata": {
        "colab": {
          "base_uri": "https://localhost:8080/"
        },
        "id": "VIi9wuXPWx7i",
        "outputId": "4078b78c-ee50-4fbc-ac19-82c6890550b1"
      },
      "execution_count": null,
      "outputs": [
        {
          "output_type": "stream",
          "name": "stderr",
          "text": []
        },
        {
          "output_type": "execute_result",
          "data": {
            "text/plain": [
              "89884"
            ]
          },
          "metadata": {},
          "execution_count": 12
        }
      ]
    },
    {
      "cell_type": "code",
      "source": [
        "#Filtrando as linhas onde os voos não foram cancelados\n",
        "df_spark=df_spark.filter(F.col('CANCELLED')==0)"
      ],
      "metadata": {
        "id": "qRS5Ed0TNRUn"
      },
      "execution_count": null,
      "outputs": []
    },
    {
      "cell_type": "code",
      "source": [
        "#Analisando a quantidade de linhas depois retirar os voos cancelados\n",
        "df_spark.count()"
      ],
      "metadata": {
        "id": "w16udehvLGU2",
        "colab": {
          "base_uri": "https://localhost:8080/"
        },
        "outputId": "c6b24ac7-cd7c-42e3-ec8a-765b4e46affc"
      },
      "execution_count": null,
      "outputs": [
        {
          "output_type": "stream",
          "name": "stderr",
          "text": []
        },
        {
          "output_type": "execute_result",
          "data": {
            "text/plain": [
              "5729195"
            ]
          },
          "metadata": {},
          "execution_count": 14
        }
      ]
    },
    {
      "cell_type": "code",
      "source": [
        "# Drop na coluna \n",
        "df_spark=df_spark.drop('YEAR','MONTH','DAY','DAY_OF_WEEK','AIRLINE','FLIGHT_NUMBER','TAIL_NUMBER')"
      ],
      "metadata": {
        "id": "QWVOL7U0MVTt"
      },
      "execution_count": null,
      "outputs": []
    },
    {
      "cell_type": "code",
      "source": [
        "# Drop na coluna \n",
        "df_spark=df_spark.drop('DESTINATION_AIRPORT','SCHEDULED_DEPARTURE','DEPARTURE_TIME','DEPARTURE_DELAY','TAXI_OUT','WHEELS_OFF','SCHEDULED_TIME','ELAPSED_TIME','AIR_TIME','DISTANCE','WHEELS_ON','TAXI_IN','SCHEDULED_ARRIVAL','ARRIVAL_TIME')"
      ],
      "metadata": {
        "id": "p9N1JhJuYZou"
      },
      "execution_count": null,
      "outputs": []
    },
    {
      "cell_type": "code",
      "source": [
        "# Drop na coluna \n",
        "df_spark=df_spark.drop('DIVERTED','CANCELLED','CANCELLATION_REASON','AIR_SYSTEM_DELAY','SECURITY_DELAY','AIRLINE_DELAY','LATE_AIRCRAFT_DELAY','WEATHER_DELAY')"
      ],
      "metadata": {
        "id": "ZjllbGivaE0R"
      },
      "execution_count": null,
      "outputs": []
    },
    {
      "cell_type": "code",
      "source": [
        "df_spark.show(5)"
      ],
      "metadata": {
        "id": "txJZxR7CaPp3"
      },
      "execution_count": null,
      "outputs": []
    },
    {
      "cell_type": "code",
      "source": [
        "#Filtrando por valores\n",
        "df_spark.filter(F.col('ARRIVAL_DELAY').asc()).show()"
      ],
      "metadata": {
        "id": "jhUHA4KzadCg"
      },
      "execution_count": null,
      "outputs": []
    },
    {
      "cell_type": "code",
      "source": [
        "#Filtrando por valores\n",
        "df_spark.orderBy(F.col('ARRIVAL_DELAY').desc()).show()"
      ],
      "metadata": {
        "colab": {
          "base_uri": "https://localhost:8080/"
        },
        "id": "k9Tgqg4_lJTt",
        "outputId": "d9786327-e53a-48ea-b8b5-53580a6c3520"
      },
      "execution_count": null,
      "outputs": [
        {
          "output_type": "stream",
          "name": "stderr",
          "text": []
        },
        {
          "output_type": "stream",
          "name": "stdout",
          "text": [
            "+--------------+-------------+\n",
            "|ORIGIN_AIRPORT|ARRIVAL_DELAY|\n",
            "+--------------+-------------+\n",
            "|           BHM|         1971|\n",
            "|           RIC|         1898|\n",
            "|           SAN|         1665|\n",
            "|           DTW|         1638|\n",
            "|           ABQ|         1636|\n",
            "|           IND|         1636|\n",
            "|           STL|         1627|\n",
            "|           OMA|         1598|\n",
            "|           LAS|         1593|\n",
            "|           HNL|         1576|\n",
            "|           HNL|         1574|\n",
            "|           MSP|         1557|\n",
            "|           MCO|         1556|\n",
            "|         14747|         1555|\n",
            "|           SAT|         1554|\n",
            "|           SAN|         1554|\n",
            "|           FAT|         1546|\n",
            "|         11612|         1528|\n",
            "|           SMF|         1514|\n",
            "|           RIC|         1508|\n",
            "+--------------+-------------+\n",
            "only showing top 20 rows\n",
            "\n"
          ]
        },
        {
          "output_type": "stream",
          "name": "stderr",
          "text": [
            "\r                                                                                \r"
          ]
        }
      ]
    },
    {
      "cell_type": "code",
      "source": [
        "#atribuindo 0 para os que estão com null na coluna Arrival_delay porque matematicamente não vai fazer diferença\n",
        "df_spark=df_spark.fillna(value=0)"
      ],
      "metadata": {
        "id": "ajHvB2mOMFKo"
      },
      "execution_count": null,
      "outputs": []
    },
    {
      "cell_type": "code",
      "source": [
        "#Filtrando por valores\n",
        "df_spark.orderBy(F.col('ORIGIN_AIRPORT').asc()).show()"
      ],
      "metadata": {
        "id": "qvBuCxr_MXOf"
      },
      "execution_count": null,
      "outputs": []
    },
    {
      "cell_type": "code",
      "source": [
        "\"\"\"\n",
        "Filtrando as origens que começam com 1. Pelo que estudei no arquivo, tem que pegar uma tabela na AFA para converter esse números para siglas. \n",
        "Como é para estudo vou excluir essas linhas porque o que eu quero nesse momento é testar o pyspark como apache beam\n",
        "\"\"\"\n",
        "\n",
        "df_spark.filter(F.col('ORIGIN_AIRPORT').like('1%')).count()"
      ],
      "metadata": {
        "colab": {
          "base_uri": "https://localhost:8080/"
        },
        "id": "ZbfN-6ewa7V7",
        "outputId": "0b8da899-a898-49e6-ca5c-e2250c016a6c"
      },
      "execution_count": null,
      "outputs": [
        {
          "output_type": "stream",
          "name": "stderr",
          "text": []
        },
        {
          "output_type": "execute_result",
          "data": {
            "text/plain": [
              "483711"
            ]
          },
          "metadata": {},
          "execution_count": 21
        }
      ]
    },
    {
      "cell_type": "code",
      "source": [
        "#Gravei em outro df tudo o que for diferente de começando por 1\n",
        "df_spark1=df_spark.filter(~F.col('ORIGIN_AIRPORT').like('1%'))"
      ],
      "metadata": {
        "id": "B9W6cGitSmvr"
      },
      "execution_count": null,
      "outputs": []
    },
    {
      "cell_type": "code",
      "source": [
        "df_spark1.orderBy(F.col('ORIGIN_AIRPORT').asc()).show(600)"
      ],
      "metadata": {
        "id": "qsEaeJwDTaGP"
      },
      "execution_count": null,
      "outputs": []
    },
    {
      "cell_type": "code",
      "source": [
        "df_spark1.orderBy(F.col('ORIGIN_AIRPORT').desc()).show(600)"
      ],
      "metadata": {
        "id": "r1Zg4YURYxhw"
      },
      "execution_count": null,
      "outputs": []
    },
    {
      "cell_type": "code",
      "source": [
        "df_spark1.printSchema()"
      ],
      "metadata": {
        "colab": {
          "base_uri": "https://localhost:8080/"
        },
        "id": "G0r1xdycQoOr",
        "outputId": "7f47116c-706d-4e9a-93a3-7d956aad6781"
      },
      "execution_count": null,
      "outputs": [
        {
          "output_type": "stream",
          "name": "stdout",
          "text": [
            "root\n",
            " |-- ORIGIN_AIRPORT: string (nullable = true)\n",
            " |-- ARRIVAL_DELAY: integer (nullable = true)\n",
            "\n"
          ]
        }
      ]
    },
    {
      "cell_type": "code",
      "source": [
        "df_spark1.filter(F.col('ORIGIN_AIRPORT').isNull()).show()"
      ],
      "metadata": {
        "colab": {
          "base_uri": "https://localhost:8080/"
        },
        "id": "0iHjuIcqXjte",
        "outputId": "7842b3d0-fa91-4bf5-b43f-621d25e288e6"
      },
      "execution_count": null,
      "outputs": [
        {
          "output_type": "stream",
          "name": "stderr",
          "text": []
        },
        {
          "output_type": "stream",
          "name": "stdout",
          "text": [
            "+--------------+-------------+\n",
            "|ORIGIN_AIRPORT|ARRIVAL_DELAY|\n",
            "+--------------+-------------+\n",
            "+--------------+-------------+\n",
            "\n"
          ]
        },
        {
          "output_type": "stream",
          "name": "stderr",
          "text": [
            "\r                                                                                \r"
          ]
        }
      ]
    },
    {
      "cell_type": "code",
      "source": [
        "#Testando se o agrupamento pelo job ficou correto ;-)\n",
        "df_spark1.filter(F.col('ARRIVAL_DELAY') > 0).groupBy(F.col('ORIGIN_AIRPORT')).sum().count()"
      ],
      "metadata": {
        "colab": {
          "base_uri": "https://localhost:8080/"
        },
        "id": "N12855Brtbm6",
        "outputId": "133a8bda-6795-4abe-935f-3b03ebf8608a"
      },
      "execution_count": null,
      "outputs": [
        {
          "output_type": "stream",
          "name": "stderr",
          "text": []
        },
        {
          "output_type": "execute_result",
          "data": {
            "text/plain": [
              "322"
            ]
          },
          "metadata": {},
          "execution_count": 50
        }
      ]
    },
    {
      "cell_type": "markdown",
      "source": [
        "## Gravando o arquivo tratado pelo Spark no bucket"
      ],
      "metadata": {
        "id": "gLakxNPsoRFu"
      }
    },
    {
      "cell_type": "code",
      "source": [
        "#Com o pyspark ele divide o arquivo em vários arquivos menores \n",
        "df_spark1.write.csv('gs://bucket-proj-individual/dados/tratado/flights_tratado')"
      ],
      "metadata": {
        "id": "Mb4GM1jBYBvK"
      },
      "execution_count": null,
      "outputs": []
    },
    {
      "cell_type": "markdown",
      "source": [
        "## Criando o pipeline"
      ],
      "metadata": {
        "id": "pIXcE38-cy7-"
      }
    },
    {
      "cell_type": "code",
      "source": [
        "#criando o pipeline a partir do bucket\n",
        "import apache_beam as beam\n",
        "import os\n",
        "from apache_beam.options.pipeline_options import PipelineOptions\n",
        "\n",
        "pipeline_options ={\n",
        "    'project':'bc23-aulas-clarissa',\n",
        "    'runner': 'DataflowRunner',\n",
        "    'region': 'southamerica-east1',\n",
        "    'staging_location': 'gs://bucket-proj-individual/staging/', \n",
        "    'temp_location': 'gs://bucket-proj-individual/staging/', \n",
        "    'template_location': 'gs://bucket-proj-individual/models/modelobatch' \n",
        "}\n",
        "\n",
        "pipeline_options=PipelineOptions.from_dictionary(pipeline_options)\n",
        "\n",
        "serviceAccount='/content/bc23-aulas-clarissa-83f5074aa293.json'\n",
        "os.environ['GOOGLE_APPLICATION_CREDENTIALS']=serviceAccount\n",
        "\n",
        "p1 = beam.Pipeline(options=pipeline_options)\n",
        "\n",
        "atraso_minuto = (\n",
        "    p1\n",
        "    |'1 Extrair do CSV' >> beam.io.ReadFromText('gs://bucket-proj-individual/dados/tratado/flights_tratado/',skip_header_lines = 1) \n",
        "    |'1 Separador do CSV' >> beam.Map(lambda record: record.split(','))\n",
        "    |'1 Filtrar aero origem' >> beam.Filter(lambda record: float(record[1]) > 0) \n",
        "    |'1 Agregar colunas' >> beam.Map(lambda record: (record[0],float(record[1])))\n",
        "    |'1 Contruir nova tabela' >> beam.CombinePerKey(sum) \n",
        ")\n",
        "quantidade = (\n",
        "    p1\n",
        "    |'2 Extrair do CSV' >> beam.io.ReadFromText('gs://bucket-proj-individual/dados/tratado/flights_tratado/',skip_header_lines = 1) \n",
        "    |'2 Separador do CSV' >> beam.Map(lambda record: record.split(','))\n",
        "    |'2 Filtrar aero origem' >> beam.Filter(lambda record: float(record[1]) > 0)\n",
        "    |'2 Agregar colunas' >> beam.Map(lambda record: (record[0],float(record[1])))\n",
        "    |'2 Contruir nova tabela' >> beam.combiners.Count.PerKey()  \n",
        ")\n",
        "tabela = (\n",
        "    {'Quantidade_minutos':atraso_minuto,'Numero_de_atrasos':quantidade}\n",
        "    |'Agrupar as pernas' >> beam.CoGroupByKey()\n",
        "    |'Gravar o resultado'>> beam.io.WriteToText('gs://bucket-proj-individual/dados/final/agregado',file_name_suffix='.csv')\n",
        ")\n",
        "p1.run() "
      ],
      "metadata": {
        "colab": {
          "base_uri": "https://localhost:8080/",
          "height": 109
        },
        "id": "bLxpdr-Idkza",
        "outputId": "012ca71a-1737-4dee-f5d6-77831330e68a"
      },
      "execution_count": null,
      "outputs": [
        {
          "output_type": "display_data",
          "data": {
            "text/plain": [
              "<IPython.core.display.HTML object>"
            ],
            "text/html": [
              "\n",
              "  <style>\n",
              "    div.alert {\n",
              "      white-space: pre-line;\n",
              "    }\n",
              "  </style>\n"
            ]
          },
          "metadata": {}
        },
        {
          "output_type": "display_data",
          "data": {
            "text/plain": [
              "<IPython.core.display.HTML object>"
            ],
            "text/html": [
              "\n",
              "            <link rel=\"stylesheet\" href=\"https://stackpath.bootstrapcdn.com/bootstrap/4.4.1/css/bootstrap.min.css\" integrity=\"sha384-Vkoo8x4CGsO3+Hhxv8T/Q5PaXtkKtu6ug5TOeNV6gBiFeWPGFN9MuhOf23Q9Ifjh\" crossorigin=\"anonymous\">\n",
              "            <div class=\"alert alert-info\">No cache_root detected. Defaulting to staging_location gs://bucket-proj-individual/staging/ for cache location.</div>"
            ]
          },
          "metadata": {}
        },
        {
          "output_type": "execute_result",
          "data": {
            "text/plain": [
              "<DataflowPipelineResult None at 0x7ff5c72a7fd0>"
            ]
          },
          "metadata": {},
          "execution_count": 48
        }
      ]
    }
  ]
}